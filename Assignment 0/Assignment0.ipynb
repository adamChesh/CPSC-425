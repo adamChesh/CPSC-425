{
 "cells": [
  {
   "cell_type": "markdown",
   "metadata": {
    "colab_type": "text",
    "id": "9b4Sml_U-U1C"
   },
   "source": [
    "## **Assignment 0**\n",
    "\n",
    "This assignment is a self-directed study to introduce you to the basics of Python for computer vision. There is nothing to hand in and no marks will be given.\n"
   ]
  },
  {
   "cell_type": "code",
   "execution_count": 1,
   "metadata": {
    "colab": {},
    "colab_type": "code",
    "id": "grp6BHq2YPEZ"
   },
   "outputs": [
    {
     "ename": "FileNotFoundError",
     "evalue": "[Errno 2] No such file or directory: 'peacock.png'",
     "output_type": "error",
     "traceback": [
      "\u001b[1;31m---------------------------------------------------------------------------\u001b[0m",
      "\u001b[1;31mFileNotFoundError\u001b[0m                         Traceback (most recent call last)",
      "Cell \u001b[1;32mIn [1], line 9\u001b[0m\n\u001b[0;32m      3\u001b[0m \u001b[38;5;28;01mimport\u001b[39;00m \u001b[38;5;21;01mnumpy\u001b[39;00m \u001b[38;5;28;01mas\u001b[39;00m \u001b[38;5;21;01mnp\u001b[39;00m\n\u001b[0;32m      5\u001b[0m \u001b[38;5;66;03m# open the test image\u001b[39;00m\n\u001b[0;32m      6\u001b[0m \u001b[38;5;66;03m# Note: If you didn't launch Python from the same directory where you saved\u001b[39;00m\n\u001b[0;32m      7\u001b[0m \u001b[38;5;66;03m#       the file, peacock.png, you'll need to provide the full path name as\u001b[39;00m\n\u001b[0;32m      8\u001b[0m \u001b[38;5;66;03m#       the argument to Image.open\u001b[39;00m\n\u001b[1;32m----> 9\u001b[0m im \u001b[38;5;241m=\u001b[39m \u001b[43mImage\u001b[49m\u001b[38;5;241;43m.\u001b[39;49m\u001b[43mopen\u001b[49m\u001b[43m(\u001b[49m\u001b[38;5;124;43m'\u001b[39;49m\u001b[38;5;124;43mpeacock.png\u001b[39;49m\u001b[38;5;124;43m'\u001b[39;49m\u001b[43m)\u001b[49m\n\u001b[0;32m     11\u001b[0m \u001b[38;5;66;03m# display relevant Image class attributes: dimensions (width, height),\u001b[39;00m\n\u001b[0;32m     12\u001b[0m \u001b[38;5;66;03m# pixel format and file format\u001b[39;00m\n\u001b[0;32m     13\u001b[0m \u001b[38;5;66;03m#\u001b[39;00m\n\u001b[0;32m     14\u001b[0m \u001b[38;5;66;03m# Python 2 version\u001b[39;00m\n\u001b[0;32m     15\u001b[0m \u001b[38;5;66;03m#     print im.size, im.mode, im.format\u001b[39;00m\n\u001b[0;32m     16\u001b[0m \u001b[38;5;66;03m# Python 3 version\u001b[39;00m\n\u001b[0;32m     17\u001b[0m \u001b[38;5;28mprint\u001b[39m(im\u001b[38;5;241m.\u001b[39msize, im\u001b[38;5;241m.\u001b[39mmode, im\u001b[38;5;241m.\u001b[39mformat)\n",
      "File \u001b[1;32m~\\miniconda3\\lib\\site-packages\\PIL\\Image.py:3092\u001b[0m, in \u001b[0;36mopen\u001b[1;34m(fp, mode, formats)\u001b[0m\n\u001b[0;32m   3089\u001b[0m     filename \u001b[38;5;241m=\u001b[39m fp\n\u001b[0;32m   3091\u001b[0m \u001b[38;5;28;01mif\u001b[39;00m filename:\n\u001b[1;32m-> 3092\u001b[0m     fp \u001b[38;5;241m=\u001b[39m \u001b[43mbuiltins\u001b[49m\u001b[38;5;241;43m.\u001b[39;49m\u001b[43mopen\u001b[49m\u001b[43m(\u001b[49m\u001b[43mfilename\u001b[49m\u001b[43m,\u001b[49m\u001b[43m \u001b[49m\u001b[38;5;124;43m\"\u001b[39;49m\u001b[38;5;124;43mrb\u001b[39;49m\u001b[38;5;124;43m\"\u001b[39;49m\u001b[43m)\u001b[49m\n\u001b[0;32m   3093\u001b[0m     exclusive_fp \u001b[38;5;241m=\u001b[39m \u001b[38;5;28;01mTrue\u001b[39;00m\n\u001b[0;32m   3095\u001b[0m \u001b[38;5;28;01mtry\u001b[39;00m:\n",
      "\u001b[1;31mFileNotFoundError\u001b[0m: [Errno 2] No such file or directory: 'peacock.png'"
     ]
    }
   ],
   "source": [
    "# import the packages we need for this assignment\n",
    "from PIL import Image\n",
    "import numpy as np\n",
    "\n",
    "# open the test image\n",
    "# Note: If you didn't launch Python from the same directory where you saved\n",
    "#       the file, peacock.png, you'll need to provide the full path name as\n",
    "#       the argument to Image.open\n",
    "im = Image.open('peacock.png')\n",
    "\n",
    "# display relevant Image class attributes: dimensions (width, height),\n",
    "# pixel format and file format\n",
    "#\n",
    "# Python 2 version\n",
    "#     print im.size, im.mode, im.format\n",
    "# Python 3 version\n",
    "print(im.size, im.mode, im.format)\n",
    "\n",
    "# Note: PIL does not have a built-in image display tool.  Instead, principally\n",
    "# for debugging, there's a show method which saves an image to a temporary file\n",
    "# on disk and calls a platform dependent external display utility\n",
    "# (the default being \"xv\" on unix, and the \"Paint\" program on Windows).\n",
    "\n",
    "# display the image\n",
    "im.show()\n",
    "\n",
    "# if this does not work on your system, try the imshow function from\n",
    "# matplotlib's pyplot module by uncommenting the next three lines\n",
    "#import matplotlib.pyplot as plt\n",
    "#plt.imshow(im)\n",
    "#plt.show()\n",
    "\n",
    "# convert the image to a black and white \"luminance\" greyscale image\n",
    "im = im.convert('L')\n",
    "\n",
    "# select a 100x100 sub region (containing the peacock's head)\n",
    "im2 = im.crop((475,130,575,230))\n",
    "\n",
    "# save the selected region\n",
    "im2.save('peacock_head.png','PNG')\n",
    "\n",
    "# PIL and numpy use different internal representations\n",
    "# convert the image to a numpy array (for subsequent processing)\n",
    "im2_array = np.asarray(im2)\n",
    "\n",
    "# compute the average intensity\n",
    "average = np.mean(im2_array)\n",
    "\n",
    "# Note: we need to make a copy to change the values of an array created using\n",
    "# np.asarray\n",
    "im3_array = im2_array.copy()\n",
    "\n",
    "# add 50 to each pixel value (clipping above at 255, the maximum uint8 value)\n",
    "# Note: indentation matters\n",
    "for x in range(0,100):\n",
    "  for y in range(0,100):\n",
    "    im3_array[y,x] = min(im3_array[y,x] + 50, 255)\n",
    "\n",
    "# convert the result back to a PIL image and save\n",
    "im3 = Image.fromarray(im3_array)\n",
    "im3.save('peacock_head_bright.png','PNG')\n",
    "\n",
    "# again make a copy of the (original) 100x100 sub-region\n",
    "im4_array = im2_array.copy()\n",
    "\n",
    "# this time, reduce the intensity of each pixel by half\n",
    "# Note: this converts the array to a float array\n",
    "im4_array = im4_array * 0.5\n",
    "\n",
    "# convert the array back to a unit8 array so we can write to a file\n",
    "im4_array = im4_array.astype('uint8')\n",
    "\n",
    "# convert the numpy array back to a PIL image and save\n",
    "im4 = Image.fromarray(im4_array)\n",
    "im4.save('peacock_head_dark.png','PNG')\n",
    "\n",
    "# let's generate our own image, a simple gradient test pattern\n",
    "# make a 1-D array of length 256 with the values 0 - 255\n",
    "grad = np.arange(0,256)\n",
    "\n",
    "# repeat this 1-D array 256 times to create a 256x256 2-D array\n",
    "grad = np.tile(grad,[256,1])\n",
    "\n",
    "# convert to uint8 and then to a PIL image and save\n",
    "im5 = Image.fromarray(grad.astype('uint8'))\n",
    "im5.save('gradient.png','PNG')\n"
   ]
  },
  {
   "cell_type": "code",
   "execution_count": null,
   "metadata": {},
   "outputs": [],
   "source": []
  }
 ],
 "metadata": {
  "colab": {
   "name": "Assignment0.ipynb",
   "provenance": []
  },
  "kernelspec": {
   "display_name": "Python 3 (ipykernel)",
   "language": "python",
   "name": "python3"
  },
  "language_info": {
   "codemirror_mode": {
    "name": "ipython",
    "version": 3
   },
   "file_extension": ".py",
   "mimetype": "text/x-python",
   "name": "python",
   "nbconvert_exporter": "python",
   "pygments_lexer": "ipython3",
   "version": "3.9.12"
  }
 },
 "nbformat": 4,
 "nbformat_minor": 4
}
